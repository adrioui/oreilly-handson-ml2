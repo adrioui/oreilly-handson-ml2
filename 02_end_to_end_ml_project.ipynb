{
 "cells": [
  {
   "cell_type": "markdown",
   "id": "21b92593e51689a4",
   "metadata": {
    "collapsed": false,
    "jupyter": {
     "outputs_hidden": false
    }
   },
   "source": [
    "# Get the Data\n",
    "## Download the Data"
   ]
  },
  {
   "cell_type": "code",
   "execution_count": null,
   "id": "a09a4bebb35ec06c",
   "metadata": {
    "ExecuteTime": {
     "end_time": "2024-03-15T02:08:36.606501Z",
     "start_time": "2024-03-15T02:08:36.591477Z"
    },
    "collapsed": false,
    "jupyter": {
     "outputs_hidden": false
    }
   },
   "outputs": [],
   "source": [
    "import os\n",
    "import tarfile\n",
    "import requests as req\n",
    "\n",
    "DOWNLOAD_ROOT = \"https://raw.githubusercontent.com/ageron/handson-ml2/master/\"\n",
    "HOUSING_PATH = os.path.join(\"datasets\", \"housing\")\n",
    "HOUSING_URL = DOWNLOAD_ROOT + \"datasets/housing/housing.tgz\"\n",
    "\n",
    "def fetch_housing_data(housing_path=HOUSING_PATH, housing_url=HOUSING_URL):\n",
    "    os.makedirs(housing_path, exist_ok=True)\n",
    "    tgz_path = os.path.join(housing_path, \"housing.tgz\")\n",
    "    # Download the tgz file\n",
    "    with open(tgz_path, mode=\"wb\") as tarfile_stream:\n",
    "        response = req.get(housing_url)\n",
    "        tarfile_stream.write(response.content)\n",
    "    # Extract the tgz file\n",
    "    with tarfile.open(tgz_path) as housing_tar:\n",
    "        housing_tar.extractall(path=housing_path)"
   ]
  },
  {
   "cell_type": "code",
   "execution_count": null,
   "id": "ae5f250f2077e324",
   "metadata": {
    "ExecuteTime": {
     "end_time": "2024-03-15T02:08:38.601946Z",
     "start_time": "2024-03-15T02:08:37.239384Z"
    },
    "collapsed": false,
    "jupyter": {
     "outputs_hidden": false
    }
   },
   "outputs": [],
   "source": [
    "fetch_housing_data()"
   ]
  },
  {
   "cell_type": "code",
   "execution_count": null,
   "id": "80e03338e5e35de5",
   "metadata": {
    "ExecuteTime": {
     "end_time": "2024-03-15T02:08:38.632777Z",
     "start_time": "2024-03-15T02:08:38.609351Z"
    },
    "collapsed": false,
    "jupyter": {
     "outputs_hidden": false
    }
   },
   "outputs": [],
   "source": [
    "import pandas as pd\n",
    "\n",
    "def load_housing_data(housing_path=HOUSING_PATH):\n",
    "    csv_path = os.path.join(housing_path, \"housing.csv\")\n",
    "    return pd.read_csv(csv_path)"
   ]
  },
  {
   "cell_type": "markdown",
   "id": "7cc0a084e78f4332",
   "metadata": {
    "collapsed": false,
    "jupyter": {
     "outputs_hidden": false
    }
   },
   "source": [
    "## Take a Quick Look at the Data Structure"
   ]
  },
  {
   "cell_type": "code",
   "execution_count": null,
   "id": "33e6f4e54998ec63",
   "metadata": {
    "ExecuteTime": {
     "end_time": "2024-03-15T02:08:40.170470Z",
     "start_time": "2024-03-15T02:08:40.110698Z"
    },
    "collapsed": false,
    "jupyter": {
     "outputs_hidden": false
    }
   },
   "outputs": [],
   "source": [
    "housing = load_housing_data()\n",
    "housing.head()"
   ]
  },
  {
   "cell_type": "code",
   "execution_count": null,
   "id": "bbb43abaa93aaf02",
   "metadata": {
    "ExecuteTime": {
     "end_time": "2024-03-15T02:08:40.831028Z",
     "start_time": "2024-03-15T02:08:40.802504Z"
    },
    "collapsed": false,
    "jupyter": {
     "outputs_hidden": false
    }
   },
   "outputs": [],
   "source": [
    "housing.info()"
   ]
  },
  {
   "cell_type": "code",
   "execution_count": null,
   "id": "c61e29fdbd0c6efd",
   "metadata": {
    "ExecuteTime": {
     "end_time": "2024-03-15T02:08:41.477430Z",
     "start_time": "2024-03-15T02:08:41.458428Z"
    },
    "collapsed": false,
    "jupyter": {
     "outputs_hidden": false
    }
   },
   "outputs": [],
   "source": [
    "housing[\"ocean_proximity\"].value_counts()"
   ]
  },
  {
   "cell_type": "code",
   "execution_count": null,
   "id": "b3258b5731f40a11",
   "metadata": {
    "ExecuteTime": {
     "end_time": "2024-03-15T02:08:42.092252Z",
     "start_time": "2024-03-15T02:08:42.052257Z"
    },
    "collapsed": false,
    "jupyter": {
     "outputs_hidden": false
    }
   },
   "outputs": [],
   "source": [
    "housing.describe()"
   ]
  },
  {
   "cell_type": "code",
   "execution_count": null,
   "id": "682072447b817656",
   "metadata": {
    "ExecuteTime": {
     "end_time": "2024-03-15T02:08:45.094169Z",
     "start_time": "2024-03-15T02:08:42.747586Z"
    },
    "collapsed": false,
    "jupyter": {
     "outputs_hidden": false
    }
   },
   "outputs": [],
   "source": [
    "%matplotlib inline\n",
    "import matplotlib.pyplot as plt\n",
    "housing.hist(bins=50, figsize=(20,15))\n",
    "plt.show()"
   ]
  },
  {
   "cell_type": "markdown",
   "id": "8e70ea74acd9606e",
   "metadata": {
    "collapsed": false,
    "jupyter": {
     "outputs_hidden": false
    }
   },
   "source": [
    "## Create a Test Set"
   ]
  },
  {
   "cell_type": "markdown",
   "id": "4716d7116d214cc",
   "metadata": {
    "collapsed": false,
    "jupyter": {
     "outputs_hidden": false
    }
   },
   "source": [
    "Split train and set test using its own unique identifier, hash it, and check if the hash is lower than or equal to the percentage of the maximum hash value. \n",
    "This ensures that the test set will remain consistent across multiple runs, if you refresh the dataset. \n",
    "The new test set will contain the percentage of the new instances, but it will not contain any instance that was previously in the training set.\n",
    "Unfortunately this dataset does not have an identifier column, so we will use row id. "
   ]
  },
  {
   "cell_type": "code",
   "execution_count": null,
   "id": "e46d57717dd38e43",
   "metadata": {
    "ExecuteTime": {
     "end_time": "2024-03-15T02:08:46.878024Z",
     "start_time": "2024-03-15T02:08:46.857034Z"
    },
    "collapsed": false,
    "jupyter": {
     "outputs_hidden": false
    }
   },
   "outputs": [],
   "source": [
    "from zlib import crc32\n",
    "import numpy as np\n",
    "\n",
    "def test_set_check(identifier, test_ratio):\n",
    "    return crc32(np.int64(identifier)) & 0xffffffff < test_ratio * 2**32\n",
    "\n",
    "def split_train_test_by_id(data, test_ratio, id_column):\n",
    "    ids = data[id_column]\n",
    "    in_test_set = ids.apply(lambda id_: test_set_check(id_, test_ratio))\n",
    "    return data.loc[~in_test_set], data.loc[in_test_set]"
   ]
  },
  {
   "cell_type": "code",
   "execution_count": null,
   "id": "2305d4e91f21434b",
   "metadata": {
    "ExecuteTime": {
     "end_time": "2024-03-15T02:08:48.350245Z",
     "start_time": "2024-03-15T02:08:48.291283Z"
    },
    "collapsed": false,
    "jupyter": {
     "outputs_hidden": false
    }
   },
   "outputs": [],
   "source": [
    "housing_with_id = housing.reset_index() # adds an 'index' column\n",
    "housing_with_id[\"id\"] = housing[\"longitude\"] * 1000 + housing[\"latitude\"] \n",
    "train_set, test_set = split_train_test_by_id(data=housing_with_id, test_ratio=0.2, id_column=\"id\")"
   ]
  },
  {
   "cell_type": "markdown",
   "id": "ecdbfe1b27713ff3",
   "metadata": {
    "collapsed": false,
    "jupyter": {
     "outputs_hidden": false
    }
   },
   "source": [
    "Or you can use train and test split from a library"
   ]
  },
  {
   "cell_type": "code",
   "execution_count": null,
   "id": "185543ae63261a2c",
   "metadata": {
    "ExecuteTime": {
     "end_time": "2024-03-15T02:08:49.964248Z",
     "start_time": "2024-03-15T02:08:49.939257Z"
    },
    "collapsed": false,
    "jupyter": {
     "outputs_hidden": false
    }
   },
   "outputs": [],
   "source": [
    "from sklearn.model_selection import train_test_split\n",
    "\n",
    "train_set, test_set = train_test_split(housing, test_size=0.2, random_state=42)"
   ]
  },
  {
   "cell_type": "markdown",
   "id": "111bd57e1cad12a8",
   "metadata": {
    "collapsed": false,
    "jupyter": {
     "outputs_hidden": false
    }
   },
   "source": [
    "Categorize the housing median income"
   ]
  },
  {
   "cell_type": "code",
   "execution_count": null,
   "id": "4aaf4109385a2a0f",
   "metadata": {
    "ExecuteTime": {
     "end_time": "2024-03-15T02:08:51.561370Z",
     "start_time": "2024-03-15T02:08:51.534355Z"
    },
    "collapsed": false,
    "jupyter": {
     "outputs_hidden": false
    }
   },
   "outputs": [],
   "source": [
    "housing[\"income_cat\"] = pd.cut(housing[\"median_income\"],\n",
    "                               bins=[0., 1.5, 3.0, 4.5, 6., np.inf],\n",
    "                               labels=[1, 2, 3, 4, 5])"
   ]
  },
  {
   "cell_type": "code",
   "execution_count": null,
   "id": "a095700ccf3647aa",
   "metadata": {
    "ExecuteTime": {
     "end_time": "2024-03-15T02:08:52.472763Z",
     "start_time": "2024-03-15T02:08:52.255675Z"
    },
    "collapsed": false,
    "jupyter": {
     "outputs_hidden": false
    }
   },
   "outputs": [],
   "source": [
    "housing[\"income_cat\"].hist()"
   ]
  },
  {
   "cell_type": "markdown",
   "id": "517a784d7beff698",
   "metadata": {
    "collapsed": false,
    "jupyter": {
     "outputs_hidden": false
    }
   },
   "source": [
    "Do stratified sampling with income category"
   ]
  },
  {
   "cell_type": "code",
   "execution_count": null,
   "id": "3e40e60ca292f019",
   "metadata": {
    "ExecuteTime": {
     "end_time": "2024-03-15T02:08:53.643207Z",
     "start_time": "2024-03-15T02:08:53.616685Z"
    },
    "collapsed": false,
    "jupyter": {
     "outputs_hidden": false
    }
   },
   "outputs": [],
   "source": [
    "from sklearn.model_selection import StratifiedShuffleSplit\n",
    "\n",
    "split = StratifiedShuffleSplit(n_splits=1, test_size=0.2, random_state=42)\n",
    "for train_index, test_index in split.split(housing, housing[\"income_cat\"]):\n",
    "    strat_train_set = housing.loc[train_index]\n",
    "    strat_test_set = housing.loc[test_index]"
   ]
  },
  {
   "cell_type": "markdown",
   "id": "637c5ad374efccce",
   "metadata": {
    "collapsed": false,
    "jupyter": {
     "outputs_hidden": false
    }
   },
   "source": [
    "Look the income category proportions in the test set"
   ]
  },
  {
   "cell_type": "code",
   "execution_count": null,
   "id": "d71ab382c7150f56",
   "metadata": {
    "ExecuteTime": {
     "end_time": "2024-03-15T02:08:55.119565Z",
     "start_time": "2024-03-15T02:08:55.106549Z"
    },
    "collapsed": false,
    "jupyter": {
     "outputs_hidden": false
    }
   },
   "outputs": [],
   "source": [
    "compare_df = strat_test_set[\"income_cat\"].value_counts() / len(strat_test_set)\n",
    "compare_df"
   ]
  },
  {
   "cell_type": "markdown",
   "id": "51275ae6050d4df2",
   "metadata": {
    "collapsed": false,
    "jupyter": {
     "outputs_hidden": false
    }
   },
   "source": [
    "Look the income category proportions in the full dataset"
   ]
  },
  {
   "cell_type": "code",
   "execution_count": null,
   "id": "114764f6683a6cb0",
   "metadata": {
    "ExecuteTime": {
     "end_time": "2024-03-15T02:08:56.670138Z",
     "start_time": "2024-03-15T02:08:56.649140Z"
    },
    "collapsed": false,
    "jupyter": {
     "outputs_hidden": false
    }
   },
   "outputs": [],
   "source": [
    "housing[\"income_cat\"].value_counts() / len(housing)"
   ]
  },
  {
   "cell_type": "markdown",
   "id": "58e5ca5f92cfe39e",
   "metadata": {
    "collapsed": false,
    "jupyter": {
     "outputs_hidden": false
    }
   },
   "source": [
    "Remove the income_cat attribute so the data is back to its original state"
   ]
  },
  {
   "cell_type": "code",
   "execution_count": null,
   "id": "4872ca60cd55198f",
   "metadata": {
    "ExecuteTime": {
     "end_time": "2024-03-15T02:08:58.042422Z",
     "start_time": "2024-03-15T02:08:58.020879Z"
    },
    "collapsed": false,
    "jupyter": {
     "outputs_hidden": false
    }
   },
   "outputs": [],
   "source": [
    "for set_ in (strat_train_set, strat_test_set):\n",
    "    set_.drop(\"income_cat\", axis=1, inplace=True)"
   ]
  },
  {
   "cell_type": "markdown",
   "id": "dedcc2ec6d6a2966",
   "metadata": {
    "collapsed": false,
    "jupyter": {
     "outputs_hidden": false
    }
   },
   "source": [
    "## Discover and Visualize the Data to Gain Insights"
   ]
  },
  {
   "cell_type": "markdown",
   "id": "a9fca4e83c59aa94",
   "metadata": {
    "collapsed": false,
    "jupyter": {
     "outputs_hidden": false
    }
   },
   "source": [
    "If the training set is very large, you may want to sample an exploration set, to make manipulations easy and fast. In our case, the set is quite small, so you can just work directly on the full set."
   ]
  },
  {
   "cell_type": "markdown",
   "id": "100652d7f29d72af",
   "metadata": {
    "collapsed": false,
    "jupyter": {
     "outputs_hidden": false
    }
   },
   "source": [
    "Put the test set aside"
   ]
  },
  {
   "cell_type": "code",
   "execution_count": null,
   "id": "d27e0e9eae6e20a7",
   "metadata": {
    "ExecuteTime": {
     "end_time": "2024-03-15T02:09:00.615358Z",
     "start_time": "2024-03-15T02:09:00.602356Z"
    },
    "collapsed": false,
    "jupyter": {
     "outputs_hidden": false
    }
   },
   "outputs": [],
   "source": [
    "housing = strat_train_set.copy()"
   ]
  },
  {
   "cell_type": "markdown",
   "id": "5887368e97ec790e",
   "metadata": {
    "collapsed": false,
    "jupyter": {
     "outputs_hidden": false
    }
   },
   "source": [
    "### Visualizing Geographical Data"
   ]
  },
  {
   "cell_type": "markdown",
   "id": "506ea6fa72c511b2",
   "metadata": {
    "collapsed": false,
    "jupyter": {
     "outputs_hidden": false
    }
   },
   "source": [
    "Since there is a geographical information (latitude and longitude) in the dataset, we will use scatterplot to visualize the data"
   ]
  },
  {
   "cell_type": "code",
   "execution_count": null,
   "id": "503a0d9ce3ea094a",
   "metadata": {
    "ExecuteTime": {
     "end_time": "2024-03-15T02:09:02.943172Z",
     "start_time": "2024-03-15T02:09:02.695533Z"
    },
    "collapsed": false,
    "jupyter": {
     "outputs_hidden": false
    }
   },
   "outputs": [],
   "source": [
    "housing.plot(kind=\"scatter\", x=\"longitude\", y=\"latitude\")"
   ]
  },
  {
   "cell_type": "markdown",
   "id": "d9c854b4e13f5817",
   "metadata": {
    "collapsed": false,
    "jupyter": {
     "outputs_hidden": false
    }
   },
   "source": [
    "Setting the alpha to 0.1 to make it easier for us to see the plot where the density is high"
   ]
  },
  {
   "cell_type": "code",
   "execution_count": null,
   "id": "1434c57748aa75bc",
   "metadata": {
    "ExecuteTime": {
     "end_time": "2024-03-15T02:09:04.429145Z",
     "start_time": "2024-03-15T02:09:04.162316Z"
    },
    "collapsed": false,
    "jupyter": {
     "outputs_hidden": false
    }
   },
   "outputs": [],
   "source": [
    "housing.plot(kind=\"scatter\", x=\"longitude\", y=\"latitude\", alpha=0.1)"
   ]
  },
  {
   "cell_type": "markdown",
   "id": "e3e9d9dd60a10618",
   "metadata": {
    "collapsed": false,
    "jupyter": {
     "outputs_hidden": false
    }
   },
   "source": [
    "The radius of each circle represents the district’s population (option s), and the color represents the price (option c). \n",
    "We will use a predefined color map (option cmap) called jet, which ranges from blue (low values) to red (high prices):"
   ]
  },
  {
   "cell_type": "code",
   "execution_count": null,
   "id": "f0dabb0d77aa1237",
   "metadata": {
    "ExecuteTime": {
     "end_time": "2024-03-15T02:09:06.612314Z",
     "start_time": "2024-03-15T02:09:05.783889Z"
    },
    "collapsed": false,
    "jupyter": {
     "outputs_hidden": false
    }
   },
   "outputs": [],
   "source": [
    "housing.plot(kind=\"scatter\", x=\"longitude\", y=\"latitude\", alpha=0.4,\n",
    "                       s=housing[\"population\"] / 100, label=\"population\", figsize=(10, 7),\n",
    "                       c=\"median_house_value\", cmap=plt.get_cmap(\"jet\"), colorbar=True)\n",
    "plt.legend()"
   ]
  },
  {
   "cell_type": "markdown",
   "id": "c54ab78f0f61a65a",
   "metadata": {
    "collapsed": false,
    "jupyter": {
     "outputs_hidden": false
    }
   },
   "source": [
    "The housing prices are very much related to the location (e.g., close to the ocean) and to the population density"
   ]
  },
  {
   "cell_type": "markdown",
   "id": "a3ae3d68d50d9785",
   "metadata": {
    "collapsed": false,
    "jupyter": {
     "outputs_hidden": false
    }
   },
   "source": [
    "### Looking for Correlations"
   ]
  },
  {
   "cell_type": "markdown",
   "id": "52af9638b0849268",
   "metadata": {
    "collapsed": false,
    "jupyter": {
     "outputs_hidden": false
    }
   },
   "source": [
    "Since the dataset is not too large, you can easily compute the standard correlation coefficient (also called Pearson’s r) between every pair of attributes using the corr() method:"
   ]
  },
  {
   "cell_type": "code",
   "execution_count": null,
   "id": "a793a539caad235a",
   "metadata": {
    "ExecuteTime": {
     "end_time": "2024-03-15T02:09:09.788474Z",
     "start_time": "2024-03-15T02:09:09.774458Z"
    },
    "collapsed": false,
    "jupyter": {
     "outputs_hidden": false
    }
   },
   "outputs": [],
   "source": [
    "corr_matrix = housing.corr(numeric_only=True)"
   ]
  },
  {
   "cell_type": "markdown",
   "id": "77ac843e49b80955",
   "metadata": {
    "collapsed": false,
    "jupyter": {
     "outputs_hidden": false
    }
   },
   "source": [
    "Look at how much each attribute correlates with the median house value"
   ]
  },
  {
   "cell_type": "code",
   "execution_count": null,
   "id": "cc3d69e7a8a28bec",
   "metadata": {
    "ExecuteTime": {
     "end_time": "2024-03-15T02:09:11.508609Z",
     "start_time": "2024-03-15T02:09:11.497621Z"
    },
    "collapsed": false,
    "jupyter": {
     "outputs_hidden": false
    }
   },
   "outputs": [],
   "source": [
    "corr_matrix[\"median_house_value\"].sort_values(ascending=False)"
   ]
  },
  {
   "cell_type": "markdown",
   "id": "8cf68eb76bbae16c",
   "metadata": {
    "collapsed": false,
    "jupyter": {
     "outputs_hidden": false
    }
   },
   "source": [
    "Another way to check for correlation between attributes is to use pandas scatter_matrix(), which plots every numerical attributes against every numerical attributes.\n",
    "I just focus on a few promising correlations against median house value"
   ]
  },
  {
   "cell_type": "code",
   "execution_count": null,
   "id": "91a54e278019eee5",
   "metadata": {
    "ExecuteTime": {
     "end_time": "2024-03-15T02:09:16.057463Z",
     "start_time": "2024-03-15T02:09:13.215533Z"
    },
    "collapsed": false,
    "jupyter": {
     "outputs_hidden": false
    }
   },
   "outputs": [],
   "source": [
    "from pandas.plotting import scatter_matrix\n",
    "\n",
    "attributes = [\"median_house_value\", \"median_income\", \"total_rooms\", \"housing_median_age\"]\n",
    "scatter_matrix(housing[attributes], figsize=(12, 8))"
   ]
  },
  {
   "cell_type": "markdown",
   "id": "d6b0b653f48ffe34",
   "metadata": {
    "collapsed": false,
    "jupyter": {
     "outputs_hidden": false
    }
   },
   "source": [
    "The most promising attribute to predict median house value is median income, let's zoom in on their correlation scatterplot"
   ]
  },
  {
   "cell_type": "code",
   "execution_count": null,
   "id": "5f9d7203e5e2eca",
   "metadata": {
    "ExecuteTime": {
     "end_time": "2024-03-15T02:09:18.743162Z",
     "start_time": "2024-03-15T02:09:18.430132Z"
    },
    "collapsed": false,
    "jupyter": {
     "outputs_hidden": false
    }
   },
   "outputs": [],
   "source": [
    "housing.plot(kind=\"scatter\", x=\"median_income\", y=\"median_house_value\", alpha=0.1)"
   ]
  },
  {
   "cell_type": "markdown",
   "id": "6ec07c41015fbcde",
   "metadata": {
    "collapsed": false,
    "jupyter": {
     "outputs_hidden": false
    }
   },
   "source": [
    "The price cap that we noticed earlier is clearly visible as a horizontal line at $500,000. But this plot reveals another horizontal lines.\n",
    "You have to remove the corresponding districts to prevent your algorithms from learning to reproduce these data quirks."
   ]
  },
  {
   "cell_type": "markdown",
   "id": "85e9aab89c8a87af",
   "metadata": {
    "collapsed": false,
    "jupyter": {
     "outputs_hidden": false
    }
   },
   "source": [
    "### Experimenting with Attribute Combinations"
   ]
  },
  {
   "cell_type": "markdown",
   "id": "7d61f540e6e7fed8",
   "metadata": {
    "collapsed": false,
    "jupyter": {
     "outputs_hidden": false
    }
   },
   "source": [
    "One last thing you may want to do before preparing the data for Machine Learning algorithms is to try out various attribute combinations. \n",
    "For example, the total number of rooms in a district is not very useful if you don’t know how many households there are. \n",
    "What you really want is the number of rooms per household. Similarly, the total number of bedrooms by itself is not very useful: you probably want to compare it to the number of rooms. And the population per household also seems like an interesting attribute combination to look at."
   ]
  },
  {
   "cell_type": "code",
   "execution_count": null,
   "id": "2b420da6beb0945b",
   "metadata": {
    "ExecuteTime": {
     "end_time": "2024-03-15T02:09:21.932572Z",
     "start_time": "2024-03-15T02:09:21.922579Z"
    },
    "collapsed": false,
    "jupyter": {
     "outputs_hidden": false
    }
   },
   "outputs": [],
   "source": [
    "housing[\"rooms_per_household\"] = housing[\"total_rooms\"] / housing[\"households\"]\n",
    "housing[\"bedrooms_per_room\"] = housing[\"total_bedrooms\"] / housing[\"total_rooms\"]\n",
    "housing[\"populations_per_household\"] = housing[\"population\"] / housing[\"households\"]"
   ]
  },
  {
   "cell_type": "code",
   "execution_count": null,
   "id": "fadf1a3782b438bd",
   "metadata": {
    "ExecuteTime": {
     "end_time": "2024-03-15T02:09:23.224429Z",
     "start_time": "2024-03-15T02:09:23.205416Z"
    },
    "collapsed": false,
    "jupyter": {
     "outputs_hidden": false
    }
   },
   "outputs": [],
   "source": [
    "corr_matrix = housing.corr(numeric_only=True)\n",
    "corr_matrix[\"median_house_value\"].sort_values(ascending=False)"
   ]
  },
  {
   "cell_type": "markdown",
   "id": "94b200f0404c8d9f",
   "metadata": {
    "collapsed": false,
    "jupyter": {
     "outputs_hidden": false
    }
   },
   "source": [
    "## Prepare the Data for Machine Learning Algorithms\n"
   ]
  },
  {
   "cell_type": "markdown",
   "id": "d7f336ccf80482a1",
   "metadata": {
    "collapsed": false,
    "jupyter": {
     "outputs_hidden": false
    }
   },
   "source": [
    "Revert to a clean training set (by copying strat_train_set once again). Also separate the predictors and the labels, since we don’t necessarily want to apply the same transformations to the predictors and the target values"
   ]
  },
  {
   "cell_type": "code",
   "execution_count": null,
   "id": "db7b8693cec57819",
   "metadata": {
    "ExecuteTime": {
     "end_time": "2024-03-15T02:09:25.502574Z",
     "start_time": "2024-03-15T02:09:25.489564Z"
    },
    "collapsed": false,
    "jupyter": {
     "outputs_hidden": false
    }
   },
   "outputs": [],
   "source": [
    "housing = strat_train_set.drop(\"median_house_value\", axis=1)\n",
    "housing_labels = strat_train_set[\"median_house_value\"].copy()\n",
    "housing_labels.head()"
   ]
  },
  {
   "cell_type": "markdown",
   "id": "923454dcd59ee464",
   "metadata": {
    "collapsed": false,
    "jupyter": {
     "outputs_hidden": false
    }
   },
   "source": [
    "### Data Cleaning"
   ]
  },
  {
   "cell_type": "markdown",
   "id": "de67330e717c8532",
   "metadata": {
    "collapsed": false,
    "jupyter": {
     "outputs_hidden": false
    }
   },
   "source": [
    "Most machine learning algorithms can't work with missing features, so we will create a few functions to take care of them.\n",
    "total_bedrooms attribute has some missing values"
   ]
  },
  {
   "cell_type": "markdown",
   "id": "1218f021a45d0351",
   "metadata": {
    "collapsed": false,
    "jupyter": {
     "outputs_hidden": false
    }
   },
   "source": [
    "We have three options:\n",
    "1. Get rid of the corresponding districts.\n",
    "2. Get rid of the whole attribute.\n",
    "3. Set the values to some value (zero, the mean, the median, etc.)."
   ]
  },
  {
   "cell_type": "code",
   "execution_count": null,
   "id": "78b775b60b6b7644",
   "metadata": {
    "ExecuteTime": {
     "end_time": "2024-03-15T02:09:28.540482Z",
     "start_time": "2024-03-15T02:09:28.513490Z"
    },
    "collapsed": false,
    "jupyter": {
     "outputs_hidden": false
    }
   },
   "outputs": [],
   "source": [
    "housing.dropna(subset=[\"total_bedrooms\"])  # option 1\n",
    "housing.drop(\"total_bedrooms\", axis=1)  # option 2\n",
    "median = housing[\"total_bedrooms\"].median() # option 3\n",
    "housing[\"total_bedrooms\"].fillna(median, inplace=True)"
   ]
  },
  {
   "cell_type": "code",
   "execution_count": null,
   "id": "a47d9c305d95687e",
   "metadata": {
    "ExecuteTime": {
     "end_time": "2024-03-15T02:09:29.555907Z",
     "start_time": "2024-03-15T02:09:29.536896Z"
    },
    "collapsed": false,
    "jupyter": {
     "outputs_hidden": false
    }
   },
   "outputs": [],
   "source": [
    "housing.head()"
   ]
  },
  {
   "cell_type": "markdown",
   "id": "e1256faa9a5efcea",
   "metadata": {
    "collapsed": false,
    "jupyter": {
     "outputs_hidden": false
    }
   },
   "source": [
    "Or you can also use SimpleImputer to fill missing values for each attribute "
   ]
  },
  {
   "cell_type": "code",
   "execution_count": null,
   "id": "21e135d7269fb394",
   "metadata": {
    "ExecuteTime": {
     "end_time": "2024-03-15T02:09:31.133880Z",
     "start_time": "2024-03-15T02:09:31.120860Z"
    },
    "collapsed": false,
    "jupyter": {
     "outputs_hidden": false
    }
   },
   "outputs": [],
   "source": [
    "from sklearn.impute import SimpleImputer\n",
    "\n",
    "imputer = SimpleImputer(strategy=\"median\")"
   ]
  },
  {
   "cell_type": "markdown",
   "id": "66daf190a9e3f6fe",
   "metadata": {
    "collapsed": false,
    "jupyter": {
     "outputs_hidden": false
    }
   },
   "source": [
    "Attributes the median can be filled with is numerical. We will get rid of any none numerical columns"
   ]
  },
  {
   "cell_type": "code",
   "execution_count": null,
   "id": "6f2eec4424aff9c0",
   "metadata": {
    "ExecuteTime": {
     "end_time": "2024-03-15T02:09:32.746722Z",
     "start_time": "2024-03-15T02:09:32.734740Z"
    },
    "collapsed": false,
    "jupyter": {
     "outputs_hidden": false
    }
   },
   "outputs": [],
   "source": [
    "housing_num = housing.drop(\"ocean_proximity\", axis=1)"
   ]
  },
  {
   "cell_type": "markdown",
   "id": "3dc1e92cb7ae9cd9",
   "metadata": {
    "collapsed": false,
    "jupyter": {
     "outputs_hidden": false
    }
   },
   "source": [
    "Fit the median"
   ]
  },
  {
   "cell_type": "code",
   "execution_count": null,
   "id": "495a91fcbd2a9701",
   "metadata": {
    "ExecuteTime": {
     "end_time": "2024-03-15T02:09:34.123754Z",
     "start_time": "2024-03-15T02:09:34.096747Z"
    },
    "collapsed": false,
    "jupyter": {
     "outputs_hidden": false
    }
   },
   "outputs": [],
   "source": [
    "imputer.fit(housing_num)"
   ]
  },
  {
   "cell_type": "markdown",
   "id": "56b299d6b4d3dad0",
   "metadata": {
    "collapsed": false,
    "jupyter": {
     "outputs_hidden": false
    }
   },
   "source": [
    "The imputer stores the median on its statistics_ instance"
   ]
  },
  {
   "cell_type": "code",
   "execution_count": null,
   "id": "af479f0a85dbb68a",
   "metadata": {
    "ExecuteTime": {
     "end_time": "2024-03-15T02:09:35.951044Z",
     "start_time": "2024-03-15T02:09:35.928042Z"
    },
    "collapsed": false,
    "jupyter": {
     "outputs_hidden": false
    }
   },
   "outputs": [],
   "source": [
    "imputer.statistics_"
   ]
  },
  {
   "cell_type": "markdown",
   "id": "8841ea727c10227c",
   "metadata": {
    "collapsed": false,
    "jupyter": {
     "outputs_hidden": false
    }
   },
   "source": [
    "Now, let's look on the medians of our data "
   ]
  },
  {
   "cell_type": "code",
   "execution_count": null,
   "id": "b2ee8b95d3ea58cc",
   "metadata": {
    "ExecuteTime": {
     "end_time": "2024-03-15T02:09:37.214184Z",
     "start_time": "2024-03-15T02:09:37.191188Z"
    },
    "collapsed": false,
    "jupyter": {
     "outputs_hidden": false
    }
   },
   "outputs": [],
   "source": [
    "housing_num.median().values"
   ]
  },
  {
   "cell_type": "markdown",
   "id": "6e3c63d42139ac22",
   "metadata": {
    "collapsed": false,
    "jupyter": {
     "outputs_hidden": false
    }
   },
   "source": [
    "Now, we can use this \"trained\" imputer to fill in our missing values"
   ]
  },
  {
   "cell_type": "code",
   "execution_count": null,
   "id": "738a1cbd94d1b71f",
   "metadata": {
    "ExecuteTime": {
     "end_time": "2024-03-15T02:09:38.711885Z",
     "start_time": "2024-03-15T02:09:38.701210Z"
    },
    "collapsed": false,
    "jupyter": {
     "outputs_hidden": false
    }
   },
   "outputs": [],
   "source": [
    "X = imputer.transform(housing_num)"
   ]
  },
  {
   "cell_type": "markdown",
   "id": "29ad0bbf6a8f1b14",
   "metadata": {
    "collapsed": false,
    "jupyter": {
     "outputs_hidden": false
    }
   },
   "source": [
    "The result is a plain NumPy array. Transform it into a dataframe"
   ]
  },
  {
   "cell_type": "code",
   "execution_count": null,
   "id": "731b9bbc200da855",
   "metadata": {
    "ExecuteTime": {
     "end_time": "2024-03-15T02:09:39.829861Z",
     "start_time": "2024-03-15T02:09:39.815864Z"
    },
    "collapsed": false,
    "jupyter": {
     "outputs_hidden": false
    }
   },
   "outputs": [],
   "source": [
    "housing_tr = pd.DataFrame(X, columns=housing_num.columns, index=housing_num.index)"
   ]
  },
  {
   "cell_type": "markdown",
   "id": "cf64c458b5bc8821",
   "metadata": {
    "collapsed": false,
    "jupyter": {
     "outputs_hidden": false
    }
   },
   "source": [
    "Now let's look at the data again"
   ]
  },
  {
   "cell_type": "code",
   "execution_count": null,
   "id": "c9cdf25871cef845",
   "metadata": {
    "ExecuteTime": {
     "end_time": "2024-03-15T02:09:41.117156Z",
     "start_time": "2024-03-15T02:09:41.097142Z"
    },
    "collapsed": false,
    "jupyter": {
     "outputs_hidden": false
    }
   },
   "outputs": [],
   "source": [
    "housing_tr.info()"
   ]
  },
  {
   "cell_type": "markdown",
   "id": "377ead8a64f434cd",
   "metadata": {
    "collapsed": false,
    "jupyter": {
     "outputs_hidden": false
    }
   },
   "source": [
    "### Handling Text and Categorical Attributes"
   ]
  },
  {
   "cell_type": "markdown",
   "id": "8e2211dfbc9bd2cc",
   "metadata": {
    "collapsed": false,
    "jupyter": {
     "outputs_hidden": false
    }
   },
   "source": [
    "We have only dealing with numerical attributes so fat. Let's take a look at text and categorical attributes"
   ]
  },
  {
   "cell_type": "code",
   "execution_count": null,
   "id": "bb5134b8bae43f4a",
   "metadata": {
    "ExecuteTime": {
     "end_time": "2024-03-15T02:09:43.060769Z",
     "start_time": "2024-03-15T02:09:43.048755Z"
    },
    "collapsed": false,
    "jupyter": {
     "outputs_hidden": false
    }
   },
   "outputs": [],
   "source": [
    "housing_cat = housing[[\"ocean_proximity\"]]"
   ]
  },
  {
   "cell_type": "code",
   "execution_count": null,
   "id": "f8431a777b08e6fb",
   "metadata": {
    "ExecuteTime": {
     "end_time": "2024-03-15T02:09:43.794663Z",
     "start_time": "2024-03-15T02:09:43.772448Z"
    },
    "collapsed": false,
    "jupyter": {
     "outputs_hidden": false
    }
   },
   "outputs": [],
   "source": [
    "housing_cat.value_counts()"
   ]
  },
  {
   "cell_type": "markdown",
   "id": "d1cc7e966a807731",
   "metadata": {
    "collapsed": false,
    "jupyter": {
     "outputs_hidden": false
    }
   },
   "source": [
    "It's not an arbitrary text, so we can transform that to a numerical value. Since most machine learning algorithm prefer to work with numerical value, let's convert it to a numerical value."
   ]
  },
  {
   "cell_type": "code",
   "execution_count": null,
   "id": "ab93a37d6684256a",
   "metadata": {
    "ExecuteTime": {
     "end_time": "2024-03-15T02:09:45.538646Z",
     "start_time": "2024-03-15T02:09:45.524630Z"
    },
    "collapsed": false,
    "jupyter": {
     "outputs_hidden": false
    }
   },
   "outputs": [],
   "source": [
    "from sklearn.preprocessing import OrdinalEncoder\n",
    "\n",
    "ordinal_encoder = OrdinalEncoder()\n",
    "housing_cat_encoded = ordinal_encoder.fit_transform(housing_cat)\n",
    "housing_cat_encoded[:10]"
   ]
  },
  {
   "cell_type": "markdown",
   "id": "9ddbf5dd2b35672f",
   "metadata": {
    "collapsed": false,
    "jupyter": {
     "outputs_hidden": false
    }
   },
   "source": [
    "Let's look at the list of the categories"
   ]
  },
  {
   "cell_type": "code",
   "execution_count": null,
   "id": "8b0ab9a565fd9b98",
   "metadata": {
    "ExecuteTime": {
     "end_time": "2024-03-15T02:09:47.348434Z",
     "start_time": "2024-03-15T02:09:47.335438Z"
    },
    "collapsed": false,
    "jupyter": {
     "outputs_hidden": false
    }
   },
   "outputs": [],
   "source": [
    "ordinal_encoder.categories_"
   ]
  },
  {
   "cell_type": "markdown",
   "id": "99b749e4ef813cb",
   "metadata": {
    "collapsed": false,
    "jupyter": {
     "outputs_hidden": false
    }
   },
   "source": [
    "One issue with this representation is that ML algorithms will assume that two nearby values are more similar than two distant values. \n",
    "This may be fine in some cases (e.g., for ordered categories such as “bad,” “average,” “good,” and “excellent”), but it is obviously not the case for the ocean_proximity column (for example, categories 0 and 4 are clearly more similar than categories 0 and 1)."
   ]
  },
  {
   "cell_type": "markdown",
   "id": "8f1e53a9907887a0",
   "metadata": {
    "collapsed": false,
    "jupyter": {
     "outputs_hidden": false
    }
   },
   "source": [
    "A common solution is to create one binary attribute per category: one attribute equal to 1 when the category is “<1H OCEAN” (and 0 otherwise), another attribute equal to 1 when the category is “INLAND” (and 0 otherwise), and so on."
   ]
  },
  {
   "cell_type": "markdown",
   "id": "1f004027ff8f12af",
   "metadata": {
    "collapsed": false,
    "jupyter": {
     "outputs_hidden": false
    }
   },
   "source": [
    "This is called one-hot encoding, because only one attribute will be equal to 1 (hot), while the others will be 0 (cold). The new attributes are sometimes called dummy attributes."
   ]
  },
  {
   "cell_type": "markdown",
   "id": "d535527361b8584b",
   "metadata": {
    "collapsed": false,
    "jupyter": {
     "outputs_hidden": false
    }
   },
   "source": [
    "Scikit-Learn provides a OneHotEncoder class to convert categorical attributes into one-hot encoders."
   ]
  },
  {
   "cell_type": "code",
   "execution_count": null,
   "id": "b693b46ea31a6d3a",
   "metadata": {
    "ExecuteTime": {
     "end_time": "2024-03-15T02:09:49.964824Z",
     "start_time": "2024-03-15T02:09:49.951822Z"
    },
    "collapsed": false,
    "jupyter": {
     "outputs_hidden": false
    }
   },
   "outputs": [],
   "source": [
    "from sklearn.preprocessing import OneHotEncoder\n",
    "\n",
    "cat_encoder = OneHotEncoder()\n",
    "housing_cat_1hot = cat_encoder.fit_transform(housing_cat)\n",
    "housing_cat_1hot"
   ]
  },
  {
   "cell_type": "markdown",
   "id": "77eb174324da8559",
   "metadata": {
    "collapsed": false,
    "jupyter": {
     "outputs_hidden": false
    }
   },
   "source": [
    "Get a list of the categories"
   ]
  },
  {
   "cell_type": "code",
   "execution_count": null,
   "id": "f4d8f5509245be5b",
   "metadata": {
    "ExecuteTime": {
     "end_time": "2024-03-15T02:09:51.380427Z",
     "start_time": "2024-03-15T02:09:51.367423Z"
    },
    "collapsed": false,
    "jupyter": {
     "outputs_hidden": false
    }
   },
   "outputs": [],
   "source": [
    "cat_encoder.categories_"
   ]
  },
  {
   "cell_type": "markdown",
   "id": "b3939d667eb04fd0",
   "metadata": {
    "collapsed": false,
    "jupyter": {
     "outputs_hidden": false
    }
   },
   "source": [
    "### Custom Transformers"
   ]
  },
  {
   "cell_type": "markdown",
   "id": "412b1f4c52f72481",
   "metadata": {
    "collapsed": false,
    "jupyter": {
     "outputs_hidden": false
    }
   },
   "source": [
    "Scikit-Learn allows you to create custom transformers by implementing three methods: fit() (returning self), transform(), and fit_transform(). You can inherit from TransformerMixin to get fit_transform() for free. Inheriting from BaseEstimator (and avoiding *args and **kwargs in the constructor) provides get_params() and set_params() methods for hyperparameter tuning. A custom transformer class can seamlessly work with Scikit-Learn functionalities like pipelines, thanks to duck typing."
   ]
  },
  {
   "cell_type": "code",
   "execution_count": null,
   "id": "80add37ece08d2f2",
   "metadata": {
    "ExecuteTime": {
     "end_time": "2024-03-15T02:09:53.258280Z",
     "start_time": "2024-03-15T02:09:53.230269Z"
    },
    "collapsed": false,
    "jupyter": {
     "outputs_hidden": false
    }
   },
   "outputs": [],
   "source": [
    "from sklearn.base import BaseEstimator, TransformerMixin\n",
    "\n",
    "rooms_ix, bedrooms_ix, population_ix, households_ix = 3, 4, 5, 6\n",
    "\n",
    "\n",
    "class CombinedAttributesAdder(BaseEstimator, TransformerMixin):\n",
    "    def __init__(self, add_bedrooms_per_rooms=True):  # no *args and **kwargs\n",
    "        self.add_bedrooms_per_rooms = add_bedrooms_per_rooms\n",
    "\n",
    "    def fit(self, X, y=None):\n",
    "        return self  # nothing else to do\n",
    "\n",
    "    def transform(self, X, y=None):\n",
    "        rooms_per_households = X[:, rooms_ix] / X[:, households_ix]\n",
    "        population_per_households = X[:, population_ix] / X[:, households_ix]\n",
    "        if self.add_bedrooms_per_rooms:\n",
    "            bedrooms_per_rooms = X[:, bedrooms_ix] / X[:, rooms_ix]\n",
    "            return np.c_[X, rooms_per_households, population_per_households, bedrooms_per_rooms]\n",
    "        else:\n",
    "            return np.c_[X, rooms_per_households, population_per_households]\n",
    "        \n",
    "attr_adder = CombinedAttributesAdder(add_bedrooms_per_rooms=False)\n",
    "housing_extra_attribs = attr_adder.transform(housing.values)"
   ]
  },
  {
   "cell_type": "markdown",
   "id": "8f4cdec58bebdbe6",
   "metadata": {
    "collapsed": false,
    "jupyter": {
     "outputs_hidden": false
    }
   },
   "source": [
    "The custom transformer has one hyperparameter, add_bedrooms_per_rooms, set to True by default (it is often helpful to set sensible defaults). This hyperparameter will allow you to easily find out whether adding this attribute will helps the Machine Learning or not."
   ]
  },
  {
   "cell_type": "markdown",
   "id": "22f0090a73c82839",
   "metadata": {
    "collapsed": false,
    "jupyter": {
     "outputs_hidden": false
    }
   },
   "source": [
    "More generally, you can add a hyperparameter to gate any data preparation step that you are not 100% sure about. The more you automate these data preparation steps, the more combinations you can automatically try out, making it much more likely that you will find a great combination (and saving you a lot of time)."
   ]
  },
  {
   "cell_type": "markdown",
   "id": "3952c3f1f2e762d7",
   "metadata": {
    "collapsed": false,
    "jupyter": {
     "outputs_hidden": false
    }
   },
   "source": [
    "### Feature Scaling"
   ]
  },
  {
   "cell_type": "markdown",
   "id": "28bc262909f708c2",
   "metadata": {
    "collapsed": false,
    "jupyter": {
     "outputs_hidden": false
    }
   },
   "source": [
    "With few exceptions, Machine Learning algorithms don’t perform well when the input numerical attributes have very different scales. This is the case for the housing data: the total number of rooms ranges from about 6 to 39,320, while the median incomes only range from 0 to 15. Note that scaling the target values is generally not required."
   ]
  },
  {
   "cell_type": "markdown",
   "id": "4a1d700280447b21",
   "metadata": {
    "collapsed": false,
    "jupyter": {
     "outputs_hidden": false
    }
   },
   "source": [
    "There are two common ways to get all attributes to have the same scale: minmax scaling and standardization."
   ]
  },
  {
   "cell_type": "markdown",
   "id": "b83fdd92a1c1b1b",
   "metadata": {
    "collapsed": false,
    "jupyter": {
     "outputs_hidden": false
    }
   },
   "source": [
    "Standardization is much less affected by outliers. For example, suppose a district had a median income equal to 100 (by\n",
    "mistake). Min-max scaling would then crush all the other values from 0–15 down to 0–0.15, whereas standardization would not be much affected"
   ]
  },
  {
   "cell_type": "markdown",
   "id": "9be546471c157b7c",
   "metadata": {
    "collapsed": false,
    "jupyter": {
     "outputs_hidden": false
    }
   },
   "source": [
    "### Transformation Pipelines"
   ]
  },
  {
   "cell_type": "code",
   "execution_count": null,
   "id": "58606ee9b2621a20",
   "metadata": {
    "ExecuteTime": {
     "end_time": "2024-03-15T02:09:57.718677Z",
     "start_time": "2024-03-15T02:09:57.690127Z"
    },
    "collapsed": false,
    "jupyter": {
     "outputs_hidden": false
    }
   },
   "outputs": [],
   "source": [
    "from sklearn.pipeline import Pipeline\n",
    "from sklearn.preprocessing import StandardScaler\n",
    "\n",
    "num_pipeline = Pipeline([\n",
    "    ('imputer', SimpleImputer(strategy='median')),\n",
    "    ('attribs_adder', CombinedAttributesAdder()),\n",
    "    ('std_scaler', StandardScaler())\n",
    "])\n",
    "\n",
    "housing_num_tr = num_pipeline.fit_transform(housing_num)"
   ]
  },
  {
   "cell_type": "markdown",
   "id": "6d2e409ae6718dd8",
   "metadata": {
    "collapsed": false,
    "jupyter": {
     "outputs_hidden": false
    }
   },
   "source": [
    "The Pipeline constructor takes a list of name/estimator pairs defining a sequence of steps. All but the last estimator must be transformers (i.e., they must have a fit_transform() method). The names can be anything you like (as long as they are unique and don’t contain double underscores, __); they will come in handy later for hyperparameter tuning."
   ]
  },
  {
   "cell_type": "markdown",
   "id": "68c6993ab648cfb5",
   "metadata": {
    "collapsed": false,
    "jupyter": {
     "outputs_hidden": false
    }
   },
   "source": [
    "So far, we have handled the categorical and numerical columns separately. It would be more convenient to have a single transformer able to handle all columns. Scikit-Learn in version 0.20 introduced the ColumnTransformer for this purpose. We will use that instead."
   ]
  },
  {
   "cell_type": "code",
   "execution_count": null,
   "id": "54d275232a996258",
   "metadata": {
    "ExecuteTime": {
     "end_time": "2024-03-15T02:09:59.607964Z",
     "start_time": "2024-03-15T02:09:59.568943Z"
    },
    "collapsed": false,
    "jupyter": {
     "outputs_hidden": false
    }
   },
   "outputs": [],
   "source": [
    "from sklearn.compose import ColumnTransformer\n",
    "\n",
    "num_attribs = list(housing_num)\n",
    "cat_attribs = [\"ocean_proximity\"]\n",
    "\n",
    "full_pipeline = ColumnTransformer([\n",
    "    (\"num\", num_pipeline, num_attribs),\n",
    "    (\"cat\", OneHotEncoder(), cat_attribs)\n",
    "])\n",
    "\n",
    "housing_prepared = full_pipeline.fit_transform(housing)"
   ]
  },
  {
   "cell_type": "code",
   "execution_count": null,
   "id": "3916025afa14d3a7",
   "metadata": {
    "ExecuteTime": {
     "end_time": "2024-03-15T02:10:00.654578Z",
     "start_time": "2024-03-15T02:10:00.641579Z"
    },
    "collapsed": false,
    "jupyter": {
     "outputs_hidden": false
    }
   },
   "outputs": [],
   "source": [
    "housing_prepared"
   ]
  },
  {
   "cell_type": "markdown",
   "id": "18747a33af13933f",
   "metadata": {
    "collapsed": false,
    "jupyter": {
     "outputs_hidden": false
    }
   },
   "source": [
    "## Select and Train a Model"
   ]
  },
  {
   "cell_type": "markdown",
   "id": "29af7427dac9bcec",
   "metadata": {
    "collapsed": false,
    "jupyter": {
     "outputs_hidden": false
    }
   },
   "source": [
    "### Training and Evaluating on the Training Set"
   ]
  },
  {
   "cell_type": "code",
   "execution_count": null,
   "id": "78a93676a4eb4c6c",
   "metadata": {
    "ExecuteTime": {
     "end_time": "2024-03-15T02:10:02.647814Z",
     "start_time": "2024-03-15T02:10:02.621814Z"
    },
    "collapsed": false,
    "jupyter": {
     "outputs_hidden": false
    }
   },
   "outputs": [],
   "source": [
    "from sklearn.linear_model import LinearRegression\n",
    "\n",
    "lin_reg = LinearRegression()\n",
    "lin_reg.fit(housing_prepared, housing_labels)"
   ]
  },
  {
   "cell_type": "code",
   "execution_count": null,
   "id": "1a801e2cd212a0fa",
   "metadata": {
    "ExecuteTime": {
     "end_time": "2024-03-15T02:10:03.732034Z",
     "start_time": "2024-03-15T02:10:03.705509Z"
    },
    "collapsed": false,
    "jupyter": {
     "outputs_hidden": false
    }
   },
   "outputs": [],
   "source": [
    "some_data = housing.iloc[:5]\n",
    "some_labels = housing_labels.iloc[:5]\n",
    "some_data_prepared = full_pipeline.transform(some_data)"
   ]
  },
  {
   "cell_type": "code",
   "execution_count": null,
   "id": "89f383a12b663dbe",
   "metadata": {
    "ExecuteTime": {
     "end_time": "2024-03-15T02:10:04.946942Z",
     "start_time": "2024-03-15T02:10:04.925924Z"
    },
    "collapsed": false,
    "jupyter": {
     "outputs_hidden": false
    }
   },
   "outputs": [],
   "source": [
    "print(\"Prediction:\", lin_reg.predict(some_data_prepared))"
   ]
  },
  {
   "cell_type": "code",
   "execution_count": null,
   "id": "295c8cba2bdbd141",
   "metadata": {
    "ExecuteTime": {
     "end_time": "2024-03-15T02:10:05.843860Z",
     "start_time": "2024-03-15T02:10:05.823845Z"
    },
    "collapsed": false,
    "jupyter": {
     "outputs_hidden": false
    }
   },
   "outputs": [],
   "source": [
    "print(\"Labels:\", list(some_labels))"
   ]
  },
  {
   "cell_type": "markdown",
   "id": "423ca3965e37c0f0",
   "metadata": {
    "collapsed": false,
    "jupyter": {
     "outputs_hidden": false
    }
   },
   "source": [
    "Measure this regression model’s RMSE on the whole training set using Scikit-Learn’s mean_squared_error() function"
   ]
  },
  {
   "cell_type": "code",
   "execution_count": null,
   "id": "f586bf59f9a44dcc",
   "metadata": {
    "ExecuteTime": {
     "end_time": "2024-03-15T02:10:07.276803Z",
     "start_time": "2024-03-15T02:10:07.252806Z"
    },
    "collapsed": false,
    "jupyter": {
     "outputs_hidden": false
    }
   },
   "outputs": [],
   "source": [
    "from sklearn.metrics import mean_squared_error\n",
    "\n",
    "housing_predictions = lin_reg.predict(housing_prepared)\n",
    "lin_mse = mean_squared_error(housing_labels, housing_predictions)\n",
    "lin_rmse = np.sqrt(lin_mse)\n",
    "lin_rmse"
   ]
  },
  {
   "cell_type": "markdown",
   "id": "a90604932f6d2bd2",
   "metadata": {
    "collapsed": false,
    "jupyter": {
     "outputs_hidden": false
    }
   },
   "source": [
    "Let's use DecisionTreeRegressor"
   ]
  },
  {
   "cell_type": "code",
   "execution_count": null,
   "id": "595f896a88451190",
   "metadata": {
    "ExecuteTime": {
     "end_time": "2024-03-15T02:10:09.232710Z",
     "start_time": "2024-03-15T02:10:08.592557Z"
    },
    "collapsed": false,
    "jupyter": {
     "outputs_hidden": false
    }
   },
   "outputs": [],
   "source": [
    "from sklearn.tree import DecisionTreeRegressor\n",
    "\n",
    "tree_reg = DecisionTreeRegressor()\n",
    "tree_reg.fit(housing_prepared, housing_labels)"
   ]
  },
  {
   "cell_type": "code",
   "execution_count": null,
   "id": "ddb52bf90b565318",
   "metadata": {
    "ExecuteTime": {
     "end_time": "2024-03-15T02:10:09.518130Z",
     "start_time": "2024-03-15T02:10:09.496661Z"
    },
    "collapsed": false,
    "jupyter": {
     "outputs_hidden": false
    }
   },
   "outputs": [],
   "source": [
    "housing_predictions = tree_reg.predict(housing_prepared)\n",
    "tree_mse = mean_squared_error(housing_labels, housing_predictions)\n",
    "tree_rmse = np.sqrt(tree_mse)\n",
    "tree_rmse"
   ]
  },
  {
   "cell_type": "markdown",
   "id": "fb47ac031d29335e",
   "metadata": {
    "collapsed": false,
    "jupyter": {
     "outputs_hidden": false
    }
   },
   "source": [
    "### Better Evaluation Using Cross-Validation"
   ]
  },
  {
   "cell_type": "markdown",
   "id": "d506b371ace6f2c6",
   "metadata": {
    "collapsed": false,
    "jupyter": {
     "outputs_hidden": false
    }
   },
   "source": [
    "Scikit-Learn’s cross-validation features expect a utility function (greater is better) rather than a cost function (lower is better), so the scoring function is actually the opposite of the MSE (i.e., a negative value), which is why the preceding code computes -scores before calculating the square root"
   ]
  },
  {
   "cell_type": "code",
   "execution_count": null,
   "id": "87bad450bec900a3",
   "metadata": {
    "ExecuteTime": {
     "end_time": "2024-03-15T02:10:16.722290Z",
     "start_time": "2024-03-15T02:10:12.198860Z"
    },
    "collapsed": false,
    "jupyter": {
     "outputs_hidden": false
    }
   },
   "outputs": [],
   "source": [
    "from sklearn.model_selection import cross_val_score\n",
    "\n",
    "scores = cross_val_score(tree_reg, housing_prepared, housing_labels, scoring=\"neg_mean_squared_error\", cv=10)\n",
    "tree_rmse_scores = np.sqrt(-scores)"
   ]
  },
  {
   "cell_type": "code",
   "execution_count": null,
   "id": "11255a61534d48f7",
   "metadata": {
    "ExecuteTime": {
     "end_time": "2024-03-15T02:10:17.843877Z",
     "start_time": "2024-03-15T02:10:17.826320Z"
    },
    "collapsed": false,
    "jupyter": {
     "outputs_hidden": false
    }
   },
   "outputs": [],
   "source": [
    "def display_scores(scores):\n",
    "    print(\"Scores:\", scores)\n",
    "    print(\"Mean:\", scores.mean())\n",
    "    print(\"Standard deviation:\", scores.std())"
   ]
  },
  {
   "cell_type": "code",
   "execution_count": null,
   "id": "725fd7a65fbed546",
   "metadata": {
    "ExecuteTime": {
     "end_time": "2024-03-15T02:10:18.733060Z",
     "start_time": "2024-03-15T02:10:18.718519Z"
    },
    "collapsed": false,
    "jupyter": {
     "outputs_hidden": false
    }
   },
   "outputs": [],
   "source": [
    "display_scores(tree_rmse_scores)"
   ]
  },
  {
   "cell_type": "code",
   "execution_count": null,
   "id": "57f3eaa871929421",
   "metadata": {
    "ExecuteTime": {
     "end_time": "2024-03-15T02:10:20.553341Z",
     "start_time": "2024-03-15T02:10:20.454785Z"
    },
    "collapsed": false,
    "jupyter": {
     "outputs_hidden": false
    }
   },
   "outputs": [],
   "source": [
    "lin_scores = cross_val_score(lin_reg, housing_prepared, housing_labels, scoring=\"neg_mean_squared_error\", cv=10)\n",
    "lin_rmse_scores = np.sqrt(-lin_scores)\n",
    "display_scores(lin_rmse_scores)"
   ]
  },
  {
   "cell_type": "markdown",
   "id": "4958963a22f80a09",
   "metadata": {
    "collapsed": false,
    "jupyter": {
     "outputs_hidden": false
    }
   },
   "source": [
    "Let's try to use RandomForestRegressor"
   ]
  },
  {
   "cell_type": "code",
   "execution_count": null,
   "id": "56dfe2b790886c8b",
   "metadata": {
    "ExecuteTime": {
     "end_time": "2024-03-15T02:11:01.194424Z",
     "start_time": "2024-03-15T02:10:22.732299Z"
    },
    "collapsed": false,
    "jupyter": {
     "outputs_hidden": false
    }
   },
   "outputs": [],
   "source": [
    "from sklearn.ensemble import RandomForestRegressor\n",
    "\n",
    "forest_reg = RandomForestRegressor()\n",
    "forest_reg.fit(housing_prepared, housing_labels)"
   ]
  },
  {
   "cell_type": "code",
   "execution_count": null,
   "id": "d2fb5509e503c9bd",
   "metadata": {
    "ExecuteTime": {
     "end_time": "2024-03-15T02:11:04.770804Z",
     "start_time": "2024-03-15T02:11:04.235025Z"
    },
    "collapsed": false,
    "jupyter": {
     "outputs_hidden": false
    }
   },
   "outputs": [],
   "source": [
    "housing_predictions = forest_reg.predict(housing_prepared)"
   ]
  },
  {
   "cell_type": "code",
   "execution_count": null,
   "id": "b85dd89c01143dc7",
   "metadata": {
    "ExecuteTime": {
     "end_time": "2024-03-15T02:14:53.322315Z",
     "start_time": "2024-03-15T02:11:06.146796Z"
    },
    "collapsed": false,
    "jupyter": {
     "outputs_hidden": false
    }
   },
   "outputs": [],
   "source": [
    "forest_scores = cross_val_score(forest_reg, housing_prepared, housing_labels,\n",
    "                                    scoring='neg_mean_squared_error', cv=10)"
   ]
  },
  {
   "cell_type": "code",
   "execution_count": null,
   "id": "bd8768e6653d9ce6",
   "metadata": {
    "collapsed": false,
    "jupyter": {
     "outputs_hidden": false
    }
   },
   "outputs": [],
   "source": [
    "forest_rmse_scores = np.sqrt(-forest_scores)\n",
    "display_scores(forest_scores)"
   ]
  }
 ],
 "metadata": {
  "kernelspec": {
   "display_name": "Python 3 (ipykernel)",
   "language": "python",
   "name": "python3"
  },
  "language_info": {
   "codemirror_mode": {
    "name": "ipython",
    "version": 3
   },
   "file_extension": ".py",
   "mimetype": "text/x-python",
   "name": "python",
   "nbconvert_exporter": "python",
   "pygments_lexer": "ipython3",
   "version": "3.8.18"
  }
 },
 "nbformat": 4,
 "nbformat_minor": 5
}
